{
 "cells": [
  {
   "cell_type": "markdown",
   "id": "955be031",
   "metadata": {},
   "source": [
    "## Data  Types"
   ]
  },
  {
   "cell_type": "code",
   "execution_count": 1,
   "id": "badd4e3b",
   "metadata": {},
   "outputs": [
    {
     "data": {
      "text/plain": [
       "int"
      ]
     },
     "execution_count": 1,
     "metadata": {},
     "output_type": "execute_result"
    }
   ],
   "source": [
    "type(-12)"
   ]
  },
  {
   "cell_type": "code",
   "execution_count": 2,
   "id": "63212e7b",
   "metadata": {},
   "outputs": [
    {
     "data": {
      "text/plain": [
       "float"
      ]
     },
     "execution_count": 2,
     "metadata": {},
     "output_type": "execute_result"
    }
   ],
   "source": [
    "type(12 + 10.34)"
   ]
  },
  {
   "cell_type": "code",
   "execution_count": 3,
   "id": "19a594bb",
   "metadata": {},
   "outputs": [
    {
     "data": {
      "text/plain": [
       "complex"
      ]
     },
     "execution_count": 3,
     "metadata": {},
     "output_type": "execute_result"
    }
   ],
   "source": [
    "type(12 + 3j)"
   ]
  },
  {
   "cell_type": "markdown",
   "id": "b3fc1ca0",
   "metadata": {},
   "source": [
    "### j is the only alphabet used as imaginary number(Complex) if you use any other character if will through error"
   ]
  },
  {
   "cell_type": "code",
   "execution_count": 6,
   "id": "43ef91a9",
   "metadata": {},
   "outputs": [
    {
     "data": {
      "text/plain": [
       "bool"
      ]
     },
     "execution_count": 6,
     "metadata": {},
     "output_type": "execute_result"
    }
   ],
   "source": [
    "#Boolean\n",
    "\n",
    "type(False)"
   ]
  },
  {
   "cell_type": "code",
   "execution_count": 7,
   "id": "1fed51d1",
   "metadata": {},
   "outputs": [
    {
     "data": {
      "text/plain": [
       "bool"
      ]
     },
     "execution_count": 7,
     "metadata": {},
     "output_type": "execute_result"
    }
   ],
   "source": [
    "type(1>5)"
   ]
  },
  {
   "cell_type": "code",
   "execution_count": 8,
   "id": "b81fae54",
   "metadata": {},
   "outputs": [
    {
     "data": {
      "text/plain": [
       "False"
      ]
     },
     "execution_count": 8,
     "metadata": {},
     "output_type": "execute_result"
    }
   ],
   "source": [
    "1>5"
   ]
  },
  {
   "cell_type": "code",
   "execution_count": 9,
   "id": "8eed1a9b",
   "metadata": {},
   "outputs": [
    {
     "data": {
      "text/plain": [
       "'Single quote'"
      ]
     },
     "execution_count": 9,
     "metadata": {},
     "output_type": "execute_result"
    }
   ],
   "source": [
    "#Strings\n",
    "\n",
    "'Single quote'"
   ]
  },
  {
   "cell_type": "code",
   "execution_count": 10,
   "id": "74f56e24",
   "metadata": {},
   "outputs": [
    {
     "data": {
      "text/plain": [
       "'Double quote'"
      ]
     },
     "execution_count": 10,
     "metadata": {},
     "output_type": "execute_result"
    }
   ],
   "source": [
    "\"Double quote\""
   ]
  },
  {
   "cell_type": "code",
   "execution_count": 13,
   "id": "7bcc42ee",
   "metadata": {},
   "outputs": [],
   "source": [
    "Multiline_Var = \"\"\"\n",
    "The ice cream vanquished \n",
    "my longing for sweets,\n",
    "it no longer exists on this day.\n",
    "\"\"\""
   ]
  },
  {
   "cell_type": "code",
   "execution_count": 14,
   "id": "7c4ec9bf",
   "metadata": {},
   "outputs": [
    {
     "name": "stdout",
     "output_type": "stream",
     "text": [
      "\n",
      "The ice cream vanquished \n",
      "my longing for sweets,\n",
      "it no longer exists on this day.\n",
      "\n"
     ]
    }
   ],
   "source": [
    "print(Multiline_Var)"
   ]
  },
  {
   "cell_type": "code",
   "execution_count": 15,
   "id": "03c47213",
   "metadata": {},
   "outputs": [
    {
     "data": {
      "text/plain": [
       "str"
      ]
     },
     "execution_count": 15,
     "metadata": {},
     "output_type": "execute_result"
    }
   ],
   "source": [
    "type(Multiline_Var)"
   ]
  },
  {
   "cell_type": "markdown",
   "id": "45b98867",
   "metadata": {},
   "source": [
    "> Strings are indexed which starts from 0 to length of string"
   ]
  },
  {
   "cell_type": "code",
   "execution_count": 20,
   "id": "dfaaf7d3",
   "metadata": {},
   "outputs": [],
   "source": [
    "a = \"Hello World!\""
   ]
  },
  {
   "cell_type": "code",
   "execution_count": 21,
   "id": "dc3456f8",
   "metadata": {},
   "outputs": [
    {
     "name": "stdout",
     "output_type": "stream",
     "text": [
      "Hello\n"
     ]
    }
   ],
   "source": [
    "print(a[:5])"
   ]
  },
  {
   "cell_type": "code",
   "execution_count": 22,
   "id": "d104733a",
   "metadata": {},
   "outputs": [
    {
     "name": "stdout",
     "output_type": "stream",
     "text": [
      "W\n"
     ]
    }
   ],
   "source": [
    "print(a[6])"
   ]
  },
  {
   "cell_type": "code",
   "execution_count": 23,
   "id": "ec20279c",
   "metadata": {},
   "outputs": [
    {
     "name": "stdout",
     "output_type": "stream",
     "text": [
      "l\n"
     ]
    }
   ],
   "source": [
    "print(a[-3])"
   ]
  },
  {
   "cell_type": "code",
   "execution_count": 24,
   "id": "467181e6",
   "metadata": {},
   "outputs": [
    {
     "name": "stdout",
     "output_type": "stream",
     "text": [
      "lo W\n"
     ]
    }
   ],
   "source": [
    "print(a[3:7])"
   ]
  },
  {
   "cell_type": "code",
   "execution_count": 25,
   "id": "9a70f750",
   "metadata": {},
   "outputs": [
    {
     "data": {
      "text/plain": [
       "'Hello World!Hello World!Hello World!Hello World!'"
      ]
     },
     "execution_count": 25,
     "metadata": {},
     "output_type": "execute_result"
    }
   ],
   "source": [
    "a*4"
   ]
  },
  {
   "cell_type": "code",
   "execution_count": 27,
   "id": "d946a9c4",
   "metadata": {},
   "outputs": [
    {
     "data": {
      "text/plain": [
       "'Hello World!Hello World!'"
      ]
     },
     "execution_count": 27,
     "metadata": {},
     "output_type": "execute_result"
    }
   ],
   "source": [
    "a+a"
   ]
  },
  {
   "cell_type": "code",
   "execution_count": 43,
   "id": "a1def696",
   "metadata": {},
   "outputs": [],
   "source": [
    "#Lists\n",
    "\n",
    "num_list = [1,2,3]\n",
    "text_list = ['Cookie Dough','Strawberry','Chocolate']\n",
    "mixed_list = ['Vanilla',3,['Scoops','Spoon'], True]\n"
   ]
  },
  {
   "cell_type": "code",
   "execution_count": 44,
   "id": "3e4d895f",
   "metadata": {
    "scrolled": true
   },
   "outputs": [
    {
     "name": "stdout",
     "output_type": "stream",
     "text": [
      "[1, 2, 3] ['Cookie Dough', 'Strawberry', 'Chocolate'] ['Vanilla', 3, ['Scoops', 'Spoon'], True]\n"
     ]
    }
   ],
   "source": [
    "print(num_list,text_list,mixed_list)"
   ]
  },
  {
   "cell_type": "code",
   "execution_count": 39,
   "id": "d8cc7bf0",
   "metadata": {
    "scrolled": false
   },
   "outputs": [
    {
     "name": "stdout",
     "output_type": "stream",
     "text": [
      "[1, 2, 3, 4, 4, 4, 4, 6]\n"
     ]
    }
   ],
   "source": [
    "num_list.append(6)\n",
    "\n",
    "print(num_list)"
   ]
  },
  {
   "cell_type": "code",
   "execution_count": 40,
   "id": "8b46c39e",
   "metadata": {},
   "outputs": [
    {
     "name": "stdout",
     "output_type": "stream",
     "text": [
      "['Cookie Dough', 'Strawberry', 'Chocolate', 'Salted Caramel']\n"
     ]
    }
   ],
   "source": [
    "text_list.append('Salted Caramel')\n",
    "print(text_list)"
   ]
  },
  {
   "cell_type": "code",
   "execution_count": 41,
   "id": "1542f63f",
   "metadata": {},
   "outputs": [
    {
     "data": {
      "text/plain": [
       "['Butter Pecan', 'Strawberry', 'Chocolate', 'Salted Caramel']"
      ]
     },
     "execution_count": 41,
     "metadata": {},
     "output_type": "execute_result"
    }
   ],
   "source": [
    "text_list[0] = 'Butter Pecan'\n",
    "\n",
    "text_list"
   ]
  },
  {
   "cell_type": "markdown",
   "id": "1e214b0d",
   "metadata": {},
   "source": [
    "- Nested List"
   ]
  },
  {
   "cell_type": "code",
   "execution_count": 46,
   "id": "a7d31aab",
   "metadata": {},
   "outputs": [],
   "source": [
    "nested_list = ['Vanilla',3,['Scoops','Spoon'], True]"
   ]
  },
  {
   "cell_type": "code",
   "execution_count": 47,
   "id": "0e80e4de",
   "metadata": {},
   "outputs": [
    {
     "data": {
      "text/plain": [
       "'Vanilla'"
      ]
     },
     "execution_count": 47,
     "metadata": {},
     "output_type": "execute_result"
    }
   ],
   "source": [
    "nested_list[0]"
   ]
  },
  {
   "cell_type": "code",
   "execution_count": 48,
   "id": "ad9ff3c3",
   "metadata": {},
   "outputs": [
    {
     "data": {
      "text/plain": [
       "True"
      ]
     },
     "execution_count": 48,
     "metadata": {},
     "output_type": "execute_result"
    }
   ],
   "source": [
    "nested_list[3]"
   ]
  },
  {
   "cell_type": "code",
   "execution_count": 49,
   "id": "dd749f40",
   "metadata": {},
   "outputs": [
    {
     "data": {
      "text/plain": [
       "['Scoops', 'Spoon']"
      ]
     },
     "execution_count": 49,
     "metadata": {},
     "output_type": "execute_result"
    }
   ],
   "source": [
    "nested_list[2]"
   ]
  },
  {
   "cell_type": "code",
   "execution_count": 50,
   "id": "9eaf2b4b",
   "metadata": {},
   "outputs": [
    {
     "data": {
      "text/plain": [
       "'Spoon'"
      ]
     },
     "execution_count": 50,
     "metadata": {},
     "output_type": "execute_result"
    }
   ],
   "source": [
    "nested_list[2][1]"
   ]
  },
  {
   "cell_type": "markdown",
   "id": "ded9aa08",
   "metadata": {},
   "source": [
    "- Tuples\n",
    "\n",
    "It cannot be modified or changed or add, tuple is used when the data is never gonna change"
   ]
  },
  {
   "cell_type": "code",
   "execution_count": 51,
   "id": "8cce6021",
   "metadata": {},
   "outputs": [],
   "source": [
    "tuple_scoops = (1,2,3,2,1)"
   ]
  },
  {
   "cell_type": "code",
   "execution_count": 52,
   "id": "7c5301a3",
   "metadata": {},
   "outputs": [
    {
     "data": {
      "text/plain": [
       "tuple"
      ]
     },
     "execution_count": 52,
     "metadata": {},
     "output_type": "execute_result"
    }
   ],
   "source": [
    "type(tuple_scoops)"
   ]
  },
  {
   "cell_type": "code",
   "execution_count": 53,
   "id": "f5735ae4",
   "metadata": {},
   "outputs": [
    {
     "data": {
      "text/plain": [
       "3"
      ]
     },
     "execution_count": 53,
     "metadata": {},
     "output_type": "execute_result"
    }
   ],
   "source": [
    "tuple_scoops[2]"
   ]
  },
  {
   "cell_type": "markdown",
   "id": "99f6afd2",
   "metadata": {},
   "source": [
    "- Sets\n",
    "\n",
    "sets are unordered so cannot be accessed by index is can still be accessed by for loop,sets don't have any duplicate elements"
   ]
  },
  {
   "cell_type": "code",
   "execution_count": 54,
   "id": "3738e95a",
   "metadata": {},
   "outputs": [],
   "source": [
    "daily_prints= {1,2,3}"
   ]
  },
  {
   "cell_type": "code",
   "execution_count": 55,
   "id": "22132ab7",
   "metadata": {},
   "outputs": [
    {
     "data": {
      "text/plain": [
       "set"
      ]
     },
     "execution_count": 55,
     "metadata": {},
     "output_type": "execute_result"
    }
   ],
   "source": [
    "type(daily_prints)"
   ]
  },
  {
   "cell_type": "code",
   "execution_count": 56,
   "id": "f3b768c2",
   "metadata": {},
   "outputs": [
    {
     "name": "stdout",
     "output_type": "stream",
     "text": [
      "{1, 2, 3}\n"
     ]
    }
   ],
   "source": [
    "print(daily_prints)"
   ]
  },
  {
   "cell_type": "code",
   "execution_count": 57,
   "id": "a61e9072",
   "metadata": {},
   "outputs": [
    {
     "name": "stdout",
     "output_type": "stream",
     "text": [
      "{1, 2, 3, 54, 456, 76, 31}\n"
     ]
    }
   ],
   "source": [
    "daily_prints_log = {1,2,31,3,456,76,3,54}\n",
    "\n",
    "print(daily_prints_log)"
   ]
  },
  {
   "cell_type": "code",
   "execution_count": 58,
   "id": "d87e62a2",
   "metadata": {},
   "outputs": [],
   "source": [
    "wifes_daily_prints_log = {1,1,1,2,3,4,5,5,6,87,45,345,2,3,45}"
   ]
  },
  {
   "cell_type": "code",
   "execution_count": 60,
   "id": "55761e77",
   "metadata": {},
   "outputs": [
    {
     "name": "stdout",
     "output_type": "stream",
     "text": [
      "{1, 2, 3, 4, 5, 6, 456, 76, 87, 345, 31, 45, 54}\n"
     ]
    }
   ],
   "source": [
    "print(daily_prints_log | wifes_daily_prints_log) \n",
    "# this will print all unique values from both sets"
   ]
  },
  {
   "cell_type": "code",
   "execution_count": 61,
   "id": "87b47a4d",
   "metadata": {},
   "outputs": [
    {
     "name": "stdout",
     "output_type": "stream",
     "text": [
      "{1, 2, 3}\n"
     ]
    }
   ],
   "source": [
    "print(daily_prints_log & wifes_daily_prints_log) \n",
    "# this will print all matching values from both sets"
   ]
  },
  {
   "cell_type": "code",
   "execution_count": 62,
   "id": "afe65ddf",
   "metadata": {},
   "outputs": [
    {
     "name": "stdout",
     "output_type": "stream",
     "text": [
      "{456, 76, 54, 31}\n"
     ]
    }
   ],
   "source": [
    "print(daily_prints_log - wifes_daily_prints_log) \n",
    "# this will print all values that does not match from both sets"
   ]
  },
  {
   "cell_type": "code",
   "execution_count": 64,
   "id": "9fc5df9c",
   "metadata": {},
   "outputs": [
    {
     "name": "stdout",
     "output_type": "stream",
     "text": [
      "{4, 5, 6, 45, 87, 345}\n"
     ]
    }
   ],
   "source": [
    "print(wifes_daily_prints_log - daily_prints_log ) \n",
    "# this will print all values that does not match from both sets check after reversiving what happend"
   ]
  },
  {
   "cell_type": "code",
   "execution_count": null,
   "id": "b0f1f596",
   "metadata": {},
   "outputs": [],
   "source": [
    "wifes_daily_prints_log"
   ]
  },
  {
   "cell_type": "code",
   "execution_count": 65,
   "id": "ff61a8ed",
   "metadata": {},
   "outputs": [
    {
     "name": "stdout",
     "output_type": "stream",
     "text": [
      "{4, 5, 6, 456, 76, 45, 54, 87, 345, 31}\n"
     ]
    }
   ],
   "source": [
    "print(daily_prints_log ^ wifes_daily_prints_log) \n",
    "# this will print all values that is one set and not in  both sets"
   ]
  },
  {
   "cell_type": "markdown",
   "id": "92071724",
   "metadata": {},
   "source": [
    "> Dictionaries\n",
    "\n",
    "- Key/Value pairs\n"
   ]
  },
  {
   "cell_type": "code",
   "execution_count": 66,
   "id": "e70fce42",
   "metadata": {},
   "outputs": [],
   "source": [
    "dict_cream = {'name': 'Alex Freberg','weekly intake' : 5, 'favourite ice cream': ['MCC','Chocolate']}"
   ]
  },
  {
   "cell_type": "code",
   "execution_count": 67,
   "id": "8fd1c766",
   "metadata": {},
   "outputs": [
    {
     "data": {
      "text/plain": [
       "dict"
      ]
     },
     "execution_count": 67,
     "metadata": {},
     "output_type": "execute_result"
    }
   ],
   "source": [
    "type(dict_cream)"
   ]
  },
  {
   "cell_type": "code",
   "execution_count": 68,
   "id": "702c28d9",
   "metadata": {},
   "outputs": [
    {
     "data": {
      "text/plain": [
       "dict_values(['Alex Freberg', 5, ['MCC', 'Chocolate']])"
      ]
     },
     "execution_count": 68,
     "metadata": {},
     "output_type": "execute_result"
    }
   ],
   "source": [
    "dict_cream.values()"
   ]
  },
  {
   "cell_type": "code",
   "execution_count": 69,
   "id": "1e391cd8",
   "metadata": {},
   "outputs": [
    {
     "data": {
      "text/plain": [
       "dict_keys(['name', 'weekly intake', 'favourite ice cream'])"
      ]
     },
     "execution_count": 69,
     "metadata": {},
     "output_type": "execute_result"
    }
   ],
   "source": [
    "dict_cream.keys()"
   ]
  },
  {
   "cell_type": "code",
   "execution_count": 70,
   "id": "bb0b5d3d",
   "metadata": {},
   "outputs": [
    {
     "data": {
      "text/plain": [
       "dict_items([('name', 'Alex Freberg'), ('weekly intake', 5), ('favourite ice cream', ['MCC', 'Chocolate'])])"
      ]
     },
     "execution_count": 70,
     "metadata": {},
     "output_type": "execute_result"
    }
   ],
   "source": [
    "dict_cream.items()"
   ]
  },
  {
   "cell_type": "code",
   "execution_count": 71,
   "id": "26b95f65",
   "metadata": {},
   "outputs": [
    {
     "data": {
      "text/plain": [
       "'Alex Freberg'"
      ]
     },
     "execution_count": 71,
     "metadata": {},
     "output_type": "execute_result"
    }
   ],
   "source": [
    "dict_cream['name']"
   ]
  },
  {
   "cell_type": "code",
   "execution_count": 74,
   "id": "02a3bab1",
   "metadata": {},
   "outputs": [
    {
     "name": "stdout",
     "output_type": "stream",
     "text": [
      "{'name': 'Christine Freberg', 'weekly intake': 5, 'favourite ice cream': ['MCC', 'Chocolate']}\n"
     ]
    }
   ],
   "source": [
    "dict_cream['name'] = \"Christine Freberg\"\n",
    "\n",
    "print(dict_cream)"
   ]
  },
  {
   "cell_type": "code",
   "execution_count": 76,
   "id": "386b34c2",
   "metadata": {},
   "outputs": [
    {
     "data": {
      "text/plain": [
       "{'name': 'Christine Freberg',\n",
       " 'weekly intake': 5,\n",
       " 'favourite ice cream': ['MCC', 'Chocolate'],\n",
       " 'weight': 200}"
      ]
     },
     "execution_count": 76,
     "metadata": {},
     "output_type": "execute_result"
    }
   ],
   "source": [
    "dict_cream.update({'weight' : 200})\n",
    "\n",
    "dict_cream"
   ]
  },
  {
   "cell_type": "code",
   "execution_count": 77,
   "id": "0842ae3e",
   "metadata": {},
   "outputs": [
    {
     "data": {
      "text/plain": [
       "{'name': 'Christine Freberg',\n",
       " 'weekly intake': 5,\n",
       " 'favourite ice cream': ['MCC', 'Chocolate']}"
      ]
     },
     "execution_count": 77,
     "metadata": {},
     "output_type": "execute_result"
    }
   ],
   "source": [
    "del dict_cream['weight']\n",
    "\n",
    "dict_cream"
   ]
  },
  {
   "cell_type": "code",
   "execution_count": null,
   "id": "f34886a6",
   "metadata": {},
   "outputs": [],
   "source": []
  },
  {
   "cell_type": "code",
   "execution_count": null,
   "id": "487be5a8",
   "metadata": {},
   "outputs": [],
   "source": []
  },
  {
   "cell_type": "code",
   "execution_count": null,
   "id": "f86c46c3",
   "metadata": {},
   "outputs": [],
   "source": []
  },
  {
   "cell_type": "code",
   "execution_count": null,
   "id": "b247336d",
   "metadata": {},
   "outputs": [],
   "source": []
  },
  {
   "cell_type": "code",
   "execution_count": null,
   "id": "3a9cd1dd",
   "metadata": {},
   "outputs": [],
   "source": []
  },
  {
   "cell_type": "code",
   "execution_count": null,
   "id": "797039ff",
   "metadata": {},
   "outputs": [],
   "source": []
  }
 ],
 "metadata": {
  "kernelspec": {
   "display_name": "Python 3 (ipykernel)",
   "language": "python",
   "name": "python3"
  },
  "language_info": {
   "codemirror_mode": {
    "name": "ipython",
    "version": 3
   },
   "file_extension": ".py",
   "mimetype": "text/x-python",
   "name": "python",
   "nbconvert_exporter": "python",
   "pygments_lexer": "ipython3",
   "version": "3.11.5"
  }
 },
 "nbformat": 4,
 "nbformat_minor": 5
}
