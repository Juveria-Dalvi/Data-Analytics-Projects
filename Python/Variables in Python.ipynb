{
 "cells": [
  {
   "cell_type": "markdown",
   "id": "b8e69bdb",
   "metadata": {},
   "source": [
    "# Variables in Python\n",
    "\n",
    "- Variables when reassign will change its value\n",
    "- Variables are case sensitive\n",
    "- Multiple Values can be assigned to multiple Variables\n",
    "- Multiple Variable can be assigned to one value"
   ]
  },
  {
   "cell_type": "markdown",
   "id": "7c7dc510",
   "metadata": {},
   "source": [
    "### Assigning Integer values to variable"
   ]
  },
  {
   "cell_type": "code",
   "execution_count": 5,
   "id": "95a97e8c",
   "metadata": {},
   "outputs": [
    {
     "name": "stdout",
     "output_type": "stream",
     "text": [
      "23\n"
     ]
    }
   ],
   "source": [
    "x = 23\n",
    "\n",
    "print(x)"
   ]
  },
  {
   "cell_type": "code",
   "execution_count": 6,
   "id": "61910266",
   "metadata": {},
   "outputs": [
    {
     "data": {
      "text/plain": [
       "int"
      ]
     },
     "execution_count": 6,
     "metadata": {},
     "output_type": "execute_result"
    }
   ],
   "source": [
    "type(x)"
   ]
  },
  {
   "cell_type": "markdown",
   "id": "97b0905c",
   "metadata": {},
   "source": [
    "### Assigning text values to variable"
   ]
  },
  {
   "cell_type": "code",
   "execution_count": 9,
   "id": "caf06b35",
   "metadata": {},
   "outputs": [
    {
     "name": "stdout",
     "output_type": "stream",
     "text": [
      "Mint Chocolate Chip\n"
     ]
    }
   ],
   "source": [
    "y = 'Mint Chocolate Chip'\n",
    "\n",
    "print(y)"
   ]
  },
  {
   "cell_type": "code",
   "execution_count": 10,
   "id": "dd7deca7",
   "metadata": {},
   "outputs": [
    {
     "data": {
      "text/plain": [
       "str"
      ]
     },
     "execution_count": 10,
     "metadata": {},
     "output_type": "execute_result"
    }
   ],
   "source": [
    "type(y)"
   ]
  },
  {
   "cell_type": "code",
   "execution_count": 11,
   "id": "1bd8d5e6",
   "metadata": {},
   "outputs": [
    {
     "name": "stdout",
     "output_type": "stream",
     "text": [
      "chocolate\n"
     ]
    }
   ],
   "source": [
    "y = 'chocolate'\n",
    "\n",
    "print(y)"
   ]
  },
  {
   "cell_type": "code",
   "execution_count": 12,
   "id": "3abcc1a4",
   "metadata": {},
   "outputs": [
    {
     "name": "stdout",
     "output_type": "stream",
     "text": [
      "Vanilla Ice Cream\n"
     ]
    }
   ],
   "source": [
    "y = 'chocolate'\n",
    "\n",
    "Y = 'Vanilla Ice Cream'\n",
    "\n",
    "print(Y)\n"
   ]
  },
  {
   "cell_type": "code",
   "execution_count": 13,
   "id": "c2fdb51d",
   "metadata": {},
   "outputs": [
    {
     "name": "stdout",
     "output_type": "stream",
     "text": [
      "chocolates\n",
      "SoftCandy\n",
      "Ice Cream\n"
     ]
    }
   ],
   "source": [
    "x,y,z = 'chocolates','SoftCandy','Ice Cream'\n",
    "\n",
    "print(x)\n",
    "print(y)\n",
    "print(z)"
   ]
  },
  {
   "cell_type": "code",
   "execution_count": 14,
   "id": "898b0d73",
   "metadata": {},
   "outputs": [
    {
     "name": "stdout",
     "output_type": "stream",
     "text": [
      "Alex the Analyst\n",
      "Alex the Analyst\n",
      "Alex the Analyst\n"
     ]
    }
   ],
   "source": [
    "x = y = z = 'Alex the Analyst'\n",
    "\n",
    "print(x)\n",
    "print(y)\n",
    "print(z)"
   ]
  },
  {
   "cell_type": "markdown",
   "id": "de1bd21d",
   "metadata": {},
   "source": [
    "# Creating Lists in python"
   ]
  },
  {
   "cell_type": "code",
   "execution_count": 15,
   "id": "3dbf0faf",
   "metadata": {},
   "outputs": [
    {
     "name": "stdout",
     "output_type": "stream",
     "text": [
      "chocolates\n",
      "ButterScotch \n",
      "Strawberry\n"
     ]
    }
   ],
   "source": [
    "ice_cream = ['chocolates','ButterScotch ','Strawberry']\n",
    "\n",
    "x,y,z = ice_cream\n",
    "\n",
    "print(x)\n",
    "print(y)\n",
    "print(z)"
   ]
  },
  {
   "cell_type": "markdown",
   "id": "156e2f9f",
   "metadata": {},
   "source": [
    "# Naming Conventions for variable's \n",
    "- Adding number before is not acceptable it will give error but can use it at the end\n",
    "- Cannot use symbols like dash(-), period(.), comma(,) or space while naming"
   ]
  },
  {
   "cell_type": "code",
   "execution_count": null,
   "id": "851e39d7",
   "metadata": {},
   "outputs": [],
   "source": [
    "## Camel Case\n",
    "\n",
    "#Text Variable Case\n",
    "\n",
    "testVariableCase = 'Vanilla Swirl'"
   ]
  },
  {
   "cell_type": "code",
   "execution_count": null,
   "id": "edd366eb",
   "metadata": {},
   "outputs": [],
   "source": [
    "## Pascal Case\n",
    "\n",
    "#Text Variable Case\n",
    "\n",
    "TestVariableCase = 'Vanilla Swirl'"
   ]
  },
  {
   "cell_type": "code",
   "execution_count": null,
   "id": "a4850402",
   "metadata": {},
   "outputs": [],
   "source": [
    "## Snake Case\n",
    "\n",
    "#Text Variable Case\n",
    "\n",
    "test_variable_case = 'Vanilla Swirl'"
   ]
  },
  {
   "cell_type": "code",
   "execution_count": null,
   "id": "044d4569",
   "metadata": {},
   "outputs": [],
   "source": [
    "example variable names\n",
    "\n",
    "testvar = 'Vanilla Swirl'\n",
    "test_var = 'Vanilla Swirl'\n",
    "_test_var = 'Vanilla Swirl'\n",
    "testVar = 'Vanilla Swirl'\n",
    "TestVar = 'Vanilla Swirl'\n",
    "testVar2 = 'Vanilla Swirl'"
   ]
  },
  {
   "cell_type": "code",
   "execution_count": null,
   "id": "60a927d9",
   "metadata": {},
   "outputs": [],
   "source": [
    "examples shouldnot use to naming\n",
    "\n",
    "2testvar = 'Vanilla Swirl'\n",
    "test-Var2 = 'Vanilla Swirl'\n",
    "Test Var = 'Vanilla Swirl'\n",
    "test,Var2 = 'Vanilla Swirl'\n",
    "test\\Var2 = 'Vanilla Swirl'\n",
    "test.Var2 = 'Vanilla Swirl'"
   ]
  },
  {
   "cell_type": "markdown",
   "id": "6d1bdb00",
   "metadata": {},
   "source": [
    "# Concatinating Strings\n",
    "- Cannot concatinate string and int value\n",
    "- but you are able to combine string and integer seperating with comma"
   ]
  },
  {
   "cell_type": "code",
   "execution_count": 17,
   "id": "0ba691ff",
   "metadata": {},
   "outputs": [
    {
     "name": "stdout",
     "output_type": "stream",
     "text": [
      "ice cream is my favorite.\n"
     ]
    }
   ],
   "source": [
    "x = 'ice cream is my favorite' + '.'\n",
    "\n",
    "print(x)"
   ]
  },
  {
   "cell_type": "code",
   "execution_count": 18,
   "id": "6b952dd1",
   "metadata": {},
   "outputs": [
    {
     "name": "stdout",
     "output_type": "stream",
     "text": [
      "7\n"
     ]
    }
   ],
   "source": [
    "y = 2 + 5\n",
    "\n",
    "print(y)"
   ]
  },
  {
   "cell_type": "code",
   "execution_count": 20,
   "id": "d28cda87",
   "metadata": {},
   "outputs": [
    {
     "name": "stdout",
     "output_type": "stream",
     "text": [
      "Ice Cream is my favorite\n"
     ]
    }
   ],
   "source": [
    "x = 'Ice Cream'\n",
    "y = ' is'\n",
    "z = ' my favorite'\n",
    "\n",
    "print(x+y+z)"
   ]
  },
  {
   "cell_type": "code",
   "execution_count": 21,
   "id": "40d5cc52",
   "metadata": {},
   "outputs": [
    {
     "name": "stdout",
     "output_type": "stream",
     "text": [
      "Ice Cream 3\n"
     ]
    }
   ],
   "source": [
    "x = 'Ice Cream'\n",
    "y = 3\n",
    "\n",
    "print(x,y)"
   ]
  },
  {
   "cell_type": "code",
   "execution_count": null,
   "id": "b37aef00",
   "metadata": {},
   "outputs": [],
   "source": []
  },
  {
   "cell_type": "code",
   "execution_count": null,
   "id": "1ba269de",
   "metadata": {},
   "outputs": [],
   "source": []
  },
  {
   "cell_type": "code",
   "execution_count": null,
   "id": "f61d55fe",
   "metadata": {},
   "outputs": [],
   "source": []
  },
  {
   "cell_type": "code",
   "execution_count": null,
   "id": "0ef1f938",
   "metadata": {},
   "outputs": [],
   "source": []
  },
  {
   "cell_type": "code",
   "execution_count": null,
   "id": "b6a878a6",
   "metadata": {},
   "outputs": [],
   "source": []
  },
  {
   "cell_type": "code",
   "execution_count": null,
   "id": "7d4cbbb7",
   "metadata": {},
   "outputs": [],
   "source": []
  },
  {
   "cell_type": "code",
   "execution_count": null,
   "id": "2534b8e6",
   "metadata": {},
   "outputs": [],
   "source": []
  },
  {
   "cell_type": "code",
   "execution_count": null,
   "id": "a63908c8",
   "metadata": {},
   "outputs": [],
   "source": []
  }
 ],
 "metadata": {
  "kernelspec": {
   "display_name": "Python 3 (ipykernel)",
   "language": "python",
   "name": "python3"
  },
  "language_info": {
   "codemirror_mode": {
    "name": "ipython",
    "version": 3
   },
   "file_extension": ".py",
   "mimetype": "text/x-python",
   "name": "python",
   "nbconvert_exporter": "python",
   "pygments_lexer": "ipython3",
   "version": "3.11.5"
  }
 },
 "nbformat": 4,
 "nbformat_minor": 5
}
